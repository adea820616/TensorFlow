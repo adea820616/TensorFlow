{
 "cells": [
  {
   "cell_type": "code",
   "execution_count": 7,
   "metadata": {},
   "outputs": [
    {
     "name": "stdout",
     "output_type": "stream",
     "text": [
      "Extracting MNIST_data/train-images-idx3-ubyte.gz\n",
      "Extracting MNIST_data/train-labels-idx1-ubyte.gz\n",
      "Extracting MNIST_data/t10k-images-idx3-ubyte.gz\n",
      "Extracting MNIST_data/t10k-labels-idx1-ubyte.gz\n"
     ]
    }
   ],
   "source": [
    "#目標\n",
    "#建立卷積神經網路 (convolutional neural network)\n",
    "#用 MNIST 來訓練 CNN\n",
    "#評估模型\n",
    "import tensorflow as tf\n",
    "from tensorflow.examples.tutorials.mnist import input_data\n",
    "mnist = input_data.read_data_sets(\"MNIST_data/\", one_hot=True)\n",
    "\n",
    "#權重初始化\n",
    "#tf.truncated_normal(shape, mean, stddev):shape表示生成张量的维度\n",
    "#產生一個常態分配，在標準差0.1範圍以內隨機取一個值\n",
    "#怕選到outlier\n",
    "def weight_variable(shape):\n",
    "    initial = tf.truncated_normal(shape, stddev=0.1)\n",
    "    return tf.Variable(initial)\n",
    "def bias_variable(shape):\n",
    "    initial = tf. constant(0.1, shape = shape)\n",
    "    return tf.Variable(initial)\n",
    "\n",
    "#卷積還有池化 (Convolution and Pooling)\n",
    "#stride = [1,stride,stride,1] 由左而右，由上而下走幾步\n",
    "#W是濾波器\n",
    "def conv2d(x, W):\n",
    "    return tf.nn.conv2d(x, W, \n",
    "                    strides = [1,1,1,1], \n",
    "                    padding = 'SAME')\n",
    "#ksize縮減取樣窗口的大小\n",
    "#ksize = [1,height,weight,1] 以2x2四個值取最大值\n",
    "#stride也是2步，不會在同一個範圍取feature\n",
    "def max_pool_2x2(x):\n",
    "    return tf.nn.max_pool(x, \n",
    "                          ksize = [1,2,2,1],\n",
    "                         strides = [1,2,2,1],\n",
    "                         padding = 'SAME')\n",
    "#第一個卷積層\n",
    "\n",
    "#建濾波器`,最後會丟進conv2d(x,W)的W裡面\n",
    "#建一個5x5的濾波器，單色是1彩色是3，產生32張圖(32個濾波器自訂)\n",
    "W_conv1 = weight_variable([5,5,1,32])\n",
    "b_conv1 = bias_variable([32])\n",
    "\n",
    "#建輸入層\n",
    "#placeholder是tensorflow「計算圖」的輸入\n",
    "#None訓練時會傳送很多數字影像的筆數不固定\n",
    "#數字為784像素(28x28=784)\n",
    "x = tf.placeholder(tf.float32, [None, 784])\n",
    "\n",
    "#定義x維度\n",
    "#把 x 轉成一個 4d的tensor\n",
    "# -1:因為後續訓練時要\n",
    "#透過placeholder輸入的筆數不確定\n",
    "#輸入28x28的圖\n",
    "x_image = tf.reshape(x, [-1, 28, 28, 1])\n",
    "\n",
    "#激活\n",
    "#把x_image,W_conv1,b_conv1丟進上面卷積function\n",
    "#再丟進max_pool_2x2函數\n",
    "\n",
    "h_conv1 = tf.nn.relu( conv2d(x_image, W_conv1)\n",
    "                     + b_conv1)\n",
    "h_pool1 = max_pool_2x2(h_conv1)\n",
    "\n",
    "#第二個卷積層\n",
    "#第一層產生32張圖\n",
    "#所以第二層的第三個位子(本來是輸入顏色1or3)\n",
    "#換成將第一層的32張圖書入到第二層裡\n",
    "#64個濾波器自訂\n",
    "W_conv2 = weight_variable([5, 5, 32, 64])\n",
    "b_conv2 = bias_variable([64])\n",
    "\n",
    "#變成輸入上一層pooling完的值\n",
    "h_conv2 = tf.nn.relu(conv2d(h_pool1, W_conv2)\n",
    "                    +b_conv2)\n",
    "h_pool2 = max_pool_2x2(h_conv2)"
   ]
  }
 ],
 "metadata": {
  "kernelspec": {
   "display_name": "Python 3",
   "language": "python",
   "name": "python3"
  },
  "language_info": {
   "codemirror_mode": {
    "name": "ipython",
    "version": 3
   },
   "file_extension": ".py",
   "mimetype": "text/x-python",
   "name": "python",
   "nbconvert_exporter": "python",
   "pygments_lexer": "ipython3",
   "version": "3.6.2"
  }
 },
 "nbformat": 4,
 "nbformat_minor": 2
}
