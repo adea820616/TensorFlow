{
 "cells": [
  {
   "cell_type": "code",
   "execution_count": 1,
   "metadata": {},
   "outputs": [
    {
     "name": "stdout",
     "output_type": "stream",
     "text": [
      "Extracting MNIST_data/train-images-idx3-ubyte.gz\n",
      "Extracting MNIST_data/train-labels-idx1-ubyte.gz\n",
      "Extracting MNIST_data/t10k-images-idx3-ubyte.gz\n",
      "Extracting MNIST_data/t10k-labels-idx1-ubyte.gz\n",
      "<class 'tensorflow.contrib.learn.python.learn.datasets.base.Datasets'>\n",
      "55000\n",
      "5000\n",
      "10000\n",
      "<class 'numpy.ndarray'>\n",
      "(55000, 784)\n",
      "<class 'numpy.ndarray'>\n",
      "(55000, 10)\n",
      "<class 'numpy.ndarray'>\n",
      "(10000, 784)\n",
      "<class 'numpy.ndarray'>\n",
      "(10000, 10)\n",
      "[ 0.  0.  0.  0.  0.  0.  0.  1.  0.  0.]\n",
      "7\n",
      "[ 0.  0.  0.  1.  0.  0.  0.  0.  0.  0.]\n",
      "3\n",
      "[ 0.  0.  0.  0.  1.  0.  0.  0.  0.  0.]\n",
      "4\n"
     ]
    },
    {
     "ename": "NameError",
     "evalue": "name 'tf' is not defined",
     "output_type": "error",
     "traceback": [
      "\u001b[1;31m---------------------------------------------------------------------------\u001b[0m",
      "\u001b[1;31mNameError\u001b[0m                                 Traceback (most recent call last)",
      "\u001b[1;32m<ipython-input-1-baa2cc4a62af>\u001b[0m in \u001b[0;36m<module>\u001b[1;34m()\u001b[0m\n\u001b[0;32m     77\u001b[0m \u001b[1;31m#用 2-D 的浮點數 tensor 來表現它\u001b[0m\u001b[1;33m\u001b[0m\u001b[1;33m\u001b[0m\u001b[0m\n\u001b[0;32m     78\u001b[0m \u001b[1;31m#None 意味著它第一個維度可以是任一長度的\u001b[0m\u001b[1;33m\u001b[0m\u001b[1;33m\u001b[0m\u001b[0m\n\u001b[1;32m---> 79\u001b[1;33m \u001b[0mx\u001b[0m \u001b[1;33m=\u001b[0m \u001b[0mtf\u001b[0m\u001b[1;33m.\u001b[0m\u001b[0mplaceholder\u001b[0m\u001b[1;33m(\u001b[0m\u001b[0mtf\u001b[0m\u001b[1;33m.\u001b[0m\u001b[0mfloat32\u001b[0m\u001b[1;33m,\u001b[0m \u001b[1;33m[\u001b[0m\u001b[1;32mNone\u001b[0m\u001b[1;33m,\u001b[0m \u001b[1;36m784\u001b[0m\u001b[1;33m]\u001b[0m\u001b[1;33m)\u001b[0m\u001b[1;33m\u001b[0m\u001b[0m\n\u001b[0m\u001b[0;32m     80\u001b[0m \u001b[1;33m\u001b[0m\u001b[0m\n\u001b[0;32m     81\u001b[0m \u001b[1;33m\u001b[0m\u001b[0m\n",
      "\u001b[1;31mNameError\u001b[0m: name 'tf' is not defined"
     ]
    },
    {
     "data": {
      "image/png": "[encoded data removed]",
      "text/plain": [
       "<matplotlib.figure.Figure at 0xfeee358>"
      ]
     },
     "metadata": {},
     "output_type": "display_data"
    },
    {
     "data": {
      "image/png": "[encoded data removed]",
      "text/plain": [
       "<matplotlib.figure.Figure at 0x100cea58>"
      ]
     },
     "metadata": {},
     "output_type": "display_data"
    },
    {
     "data": {
      "image/png": "[encoded data removed]",
      "text/plain": [
       "<matplotlib.figure.Figure at 0x101431d0>"
      ]
     },
     "metadata": {},
     "output_type": "display_data"
    }
   ],
   "source": [
    "#https://ithelp.ithome.com.tw/articles/10186473\n",
    "#1下載並熟悉 MNIST 資料集\n",
    "#2建立 tensorflow softmax regression model\n",
    "#3訓練 model 並計算出準確度\n",
    "\n",
    "#下載 MNIST 的資料集\n",
    "from tensorflow.examples.tutorials.mnist import input_data\n",
    "import numpy as np\n",
    "import matplotlib.pyplot as plt \n",
    "%matplotlib inline\n",
    "#讀mnist\n",
    "mnist = input_data.read_data_sets(\"MNIST_data/\", one_hot=True)\n",
    "\n",
    "#MNIST 資料集分成三個部分\n",
    "#55,000 筆的 training data (mnist.train)\n",
    "#10,000 筆的 test data (mnist.test)\n",
    "#5,000 筆的 validation data (mnist.validation)\n",
    "\n",
    "# 來看看 mnist 的型態\n",
    "#num_examples 資料共幾筆\n",
    "print(type (mnist))\n",
    "print(mnist.train.num_examples)\n",
    "print(mnist.validation.num_examples)\n",
    "print(mnist.test.num_examples)\n",
    "\n",
    "# MNIST 訓練還有測試的資料集長得如何\n",
    "train_img = mnist.train.images\n",
    "train_label = mnist.train.labels\n",
    "test_img = mnist.test.images\n",
    "test_label = mnist.test.labels\n",
    "\n",
    "print( type(train_img) )\n",
    "print( train_img.shape )\n",
    "print( type(train_label) )\n",
    "print( train_label.shape )\n",
    "\n",
    "print( type(test_img) )\n",
    "print( test_img.shape )\n",
    "print( type(test_label) )\n",
    "print( test_label.shape )\n",
    "\n",
    "#實際印出了 MNIST 的資料集\n",
    "#nsample = 1\n",
    "#randidx = np.random.randint(train_img.shape[0], size = nsample)\n",
    "\n",
    "\n",
    "for i in [0, 1, 2]:\n",
    "    \n",
    "    #把一條資料，reshape轉換成28X28\n",
    "    curr_img = np.reshape(train_img[ i, : ], (28,28))\n",
    "    #上面是28X28 matrix\n",
    "        \n",
    "    #argmax : Returns the indices of the maximum values along an axis.\n",
    "    curr_label = np.argmax(train_label[i, : ] )\n",
    "    #[ 0.  0.  0.  0.  0.  0.  0.  1.  0.  0.]\n",
    "    print(train_label[i, :])\n",
    "    #7\n",
    "    print(curr_label)\n",
    "    \n",
    "    plt.matshow(curr_img, cmap = plt.get_cmap('Blues'))\n",
    "    plt.title(\"\"+ str(i+1) + \"th Training data\"\n",
    "             +\"Label is\" + str(curr_label))\n",
    "    \n",
    "    #plt顏色\n",
    "    #https://matplotlib.org/examples/color/colormaps_reference.html\n",
    "    \n",
    "    \n",
    "    \n",
    "    \n",
    "    \n",
    "    "
   ]
  },
  {
   "cell_type": "code",
   "execution_count": null,
   "metadata": {},
   "outputs": [],
   "source": []
  },
  {
   "cell_type": "code",
   "execution_count": null,
   "metadata": {},
   "outputs": [],
   "source": []
  }
 ],
 "metadata": {
  "kernelspec": {
   "display_name": "Python 3",
   "language": "python",
   "name": "python3"
  },
  "language_info": {
   "codemirror_mode": {
    "name": "ipython",
    "version": 3
   },
   "file_extension": ".py",
   "mimetype": "text/x-python",
   "name": "python",
   "nbconvert_exporter": "python",
   "pygments_lexer": "ipython3",
   "version": "3.6.2"
  }
 },
 "nbformat": 4,
 "nbformat_minor": 2
}
