{
 "cells": [
  {
   "cell_type": "code",
   "execution_count": 4,
   "metadata": {},
   "outputs": [
    {
     "name": "stdout",
     "output_type": "stream",
     "text": [
      "b'Hello, TensorFlow!'\n"
     ]
    }
   ],
   "source": [
    "import tensorflow as tf\n",
    "hello = tf.constant('Hello, TensorFlow!')\n",
    "sess = tf.Session()\n",
    "print(sess.run(hello))"
   ]
  },
  {
   "cell_type": "code",
   "execution_count": 15,
   "metadata": {},
   "outputs": [
    {
     "name": "stdout",
     "output_type": "stream",
     "text": [
      "0 [ 0.69622409] [-0.01452218]\n",
      "20 [ 0.22922398] [ 0.23391147]\n",
      "40 [ 0.12782606] [ 0.28576902]\n",
      "60 [ 0.10599184] [ 0.29693562]\n",
      "80 [ 0.10129023] [ 0.29934016]\n",
      "100 [ 0.10027783] [ 0.29985791]\n",
      "120 [ 0.10005984] [ 0.2999694]\n",
      "140 [ 0.10001291] [ 0.29999343]\n",
      "160 [ 0.1000028] [ 0.29999858]\n",
      "180 [ 0.1000006] [ 0.29999971]\n"
     ]
    }
   ],
   "source": [
    "import tensorflow as tf\n",
    "import numpy as np\n",
    "#float 8數字.23數字(包括小數點 總共32個)\n",
    "\n",
    "#create data\n",
    "x_data = np.random.rand(100).astype(np.float32)\n",
    "y_data = x_data*0.1 + 0.3\n",
    "\n",
    "#create tensorflow structure start#\n",
    "\n",
    "#Variables\t變數\n",
    "#[1]一維矩陣\n",
    "Weights= tf.Variable(tf.random_uniform([1],-1.0 ,1.0 ))\n",
    "#biases 初始值給0\n",
    "biases = tf.Variable(tf.zeros([1]))\n",
    "y = Weights *x_data +biases\n",
    "\n",
    "#最小化loos (MSE)\n",
    "loss = tf.reduce_mean(tf.square(y - y_data))\n",
    "optimizer = tf.train.GradientDescentOptimizer(learning_rate=0.5)\n",
    "train = optimizer.minimize(loss)\n",
    "\n",
    "#初始化\n",
    "init = tf.global_variables_initializer()\n",
    "\n",
    "#create tensorflow structure end#\n",
    "\n",
    "\n",
    "#Sessions\t執行運算\n",
    "sess = tf.Session()\n",
    "sess.run(init)\n",
    "\n",
    "# 將迴歸線的係數與截距模擬出來\n",
    "# 每跑 20 次把當時的係數與截距印出來\n",
    "for step in range(200):\n",
    "    sess.run(train)\n",
    "    if step %20 == 0:\n",
    "        print(step,sess.run(Weights),sess.run(biases))\n",
    "#關閉session\n",
    "sess.close()"
   ]
  },
  {
   "cell_type": "code",
   "execution_count": 26,
   "metadata": {},
   "outputs": [
    {
     "name": "stdout",
     "output_type": "stream",
     "text": [
      "[[3 3]]\n",
      "[[2]\n",
      " [2]]\n",
      "[[12]]\n"
     ]
    }
   ],
   "source": [
    "#方法一 建立運算元\n",
    "import tensorflow as tf\n",
    "\n",
    "sess = tf.Session()\n",
    "\n",
    "#1X2 matrix\n",
    "matrix1 = tf.constant( [[3,3]] )\n",
    "print( sess.run(matrix1))\n",
    "\n",
    "#矩陣相乘\n",
    "matrix2 = tf.constant( [[2],[2]])\n",
    "print( sess.run(matrix2))\n",
    "\n",
    "result = tf.matmul(matrix1,matrix2)\n",
    "print( sess.run(result))\n",
    "\n",
    "sess.close()"
   ]
  },
  {
   "cell_type": "code",
   "execution_count": 32,
   "metadata": {},
   "outputs": [
    {
     "name": "stdout",
     "output_type": "stream",
     "text": [
      "[array([[12]])]\n"
     ]
    }
   ],
   "source": [
    "#方法二 不需要另外關閉 Session\n",
    "import tensorflow as tf\n",
    "\n",
    "#1X2 matrix\n",
    "matrix1 = tf.constant([[3,3]])\n",
    "\n",
    "#2X1 matrix\n",
    "matrix2 = tf.constant( [[2],[2]])\n",
    "\n",
    "#矩陣相乘\n",
    "#matmul()\n",
    "result = tf.matmul( matrix1, matrix2)\n",
    "\n",
    "#啟動\n",
    "with tf.Session() as sess:\n",
    "    ans = sess.run([result])\n",
    "    print(ans)"
   ]
  },
  {
   "cell_type": "code",
   "execution_count": 33,
   "metadata": {},
   "outputs": [
    {
     "name": "stdout",
     "output_type": "stream",
     "text": [
      "[[12]]\n"
     ]
    }
   ],
   "source": [
    "#方法三\n",
    "#要將 matrix1 設定為 Variable 然後再由她來初始化。\n",
    "\n",
    "import tensorflow as tf\n",
    "sess = tf.InteractiveSession()\n",
    "\n",
    "#1X2 matrix\n",
    "#change to Variable\n",
    "matrix1 = tf.Variable( [[3,3]])\n",
    "\n",
    "#2X1 matrix\n",
    "matrix2 = tf.constant( [[2],[2]])\n",
    "\n",
    "#初始化 matrix1\n",
    "matrix1.initializer.run()\n",
    "\n",
    "result = tf.matmul(matrix1, matrix2)\n",
    "print(result.eval())\n",
    "\n",
    "sess.close()"
   ]
  },
  {
   "cell_type": "code",
   "execution_count": 49,
   "metadata": {},
   "outputs": [
    {
     "name": "stdout",
     "output_type": "stream",
     "text": [
      "0 0\n",
      "1 1\n",
      "2 2\n"
     ]
    }
   ],
   "source": [
    "#變數\n",
    "import tensorflow as tf\n",
    "\n",
    "#create variable\n",
    "state = tf.Variable(0, name=\"counter\")\n",
    "\n",
    "#每次+1 更新state\n",
    "one = tf.constant(1)\n",
    "new_value = tf.add(state,one)\n",
    "update = tf.assign(state,new_value)\n",
    "\n",
    "#初始化\n",
    "init = tf.global_variables_initializer()\n",
    "\n",
    "#執行\n",
    "sess = tf.Session()\n",
    "sess.run(init)\n",
    "\n",
    "for x in range(3):\n",
    "    print( x,sess.run(state))\n",
    "    sess.run(update)\n",
    "    \n",
    "sess.close()"
   ]
  },
  {
   "cell_type": "code",
   "execution_count": 69,
   "metadata": {},
   "outputs": [
    {
     "name": "stdout",
     "output_type": "stream",
     "text": [
      "[array([[ 6.,  6.],\n",
      "       [ 6.,  6.]], dtype=float32)]\n"
     ]
    }
   ],
   "source": [
    "#資料輸入\n",
    "#tf.placeholder() 宣告資料的種類\n",
    "import tensorflow as tf\n",
    "\n",
    "#mul()\n",
    "input1 = tf.placeholder(tf.float32)\n",
    "input2 = tf.placeholder(tf.float32)\n",
    "output = tf.multiply(input1, input2)\n",
    "#output = tf.matmul(input1, input2)\n",
    "\n",
    "# 將 input1 以 7 輸入，input2 以 3 輸入\n",
    "sess = tf.Session()\n",
    "#print(sess.run([output], feed_dict = {input1: [7], input2: [3]}))\n",
    "print (sess.run([output] ,feed_dict={input1:[[3,3]], input2: [[2],[2]]}))"
   ]
  },
  {
   "cell_type": "code",
   "execution_count": 74,
   "metadata": {},
   "outputs": [
    {
     "name": "stdout",
     "output_type": "stream",
     "text": [
      "[array([[5, 5],\n",
      "       [5, 5]]), array([[6, 6],\n",
      "       [6, 6]])]\n"
     ]
    }
   ],
   "source": [
    "input1 = tf.constant([3])\n",
    "#input1 = tf.constant(3)\n",
    "#input1 = tf.constant([[3,3]])\n",
    "\n",
    "input2 = tf.constant([5])\n",
    "#input2 = tf.constant(5)\n",
    "#input2 = tf.constant([[2],[2]])\n",
    "\n",
    "added = tf.add(input1, input2)\n",
    "multiplied = tf.multiply(input1, input2)\n",
    "\n",
    "sess = tf.Session()\n",
    "result = sess.run([added,multiplied])\n",
    "print(result)"
   ]
  }
 ],
 "metadata": {
  "kernelspec": {
   "display_name": "Python 3",
   "language": "python",
   "name": "python3"
  },
  "language_info": {
   "codemirror_mode": {
    "name": "ipython",
    "version": 3
   },
   "file_extension": ".py",
   "mimetype": "text/x-python",
   "name": "python",
   "nbconvert_exporter": "python",
   "pygments_lexer": "ipython3",
   "version": "3.6.2"
  }
 },
 "nbformat": 4,
 "nbformat_minor": 2
}
