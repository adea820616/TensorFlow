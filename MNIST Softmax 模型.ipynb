{
 "cells": [
  {
   "cell_type": "code",
   "execution_count": 18,
   "metadata": {},
   "outputs": [
    {
     "name": "stdout",
     "output_type": "stream",
     "text": [
      "[[ 0.  0.  0. ...,  0.  0.  0.]\n",
      " [ 0.  0.  0. ...,  0.  0.  0.]\n",
      " [ 0.  0.  0. ...,  0.  0.  0.]\n",
      " ..., \n",
      " [ 0.  0.  0. ...,  0.  0.  0.]\n",
      " [ 0.  0.  0. ...,  0.  0.  0.]\n",
      " [ 0.  0.  0. ...,  0.  0.  0.]]\n",
      "(784, 10)\n"
     ]
    }
   ],
   "source": [
    "# https://ithelp.ithome.com.tw/articles/1018687\n",
    "# 實作 MNIST Softmax 模型\n",
    "\n",
    "# 目標\n",
    "# 1實作 Softmax Regressions\n",
    "# 2了解 tensorflow computation graph\n",
    "\n",
    "import tensorflow as tf\n",
    "\n",
    "#操作符號變數來描述這一些交互操\n",
    "#範例\n",
    "#x 不是一個特定的數值．他是一個佔位子 (placeholder)\n",
    "#預先保留的數值，在真正計算的時候才把數值輸入進去\n",
    "#我們想要可以輸入任意數量的 MNIST 圖片\n",
    "#每一張圖都會先轉化成 784 維的向量．\n",
    "#用 2-D 的浮點數 tensor 來表現它\n",
    "#None 意味著它第一個維度可以是任一長度的\n",
    "x = tf.placeholder(tf.float32, [None, 784])\n",
    "\n",
    "\n",
    "W = tf.Variable( tf.zeros([784,10]) )\n",
    "b = tf.Variable( tf.zeros([10]) )\n",
    "\n",
    "init = tf.global_variables_initializer()\n",
    "sess = tf.Session()\n",
    "sess.run(init)\n",
    "\n",
    "print(sess.run(W))\n",
    "\n",
    "print(W.shape)\n",
    "\n",
    "sess.close()\n"
   ]
  }
 ],
 "metadata": {
  "kernelspec": {
   "display_name": "Python 3",
   "language": "python",
   "name": "python3"
  },
  "language_info": {
   "codemirror_mode": {
    "name": "ipython",
    "version": 3
   },
   "file_extension": ".py",
   "mimetype": "text/x-python",
   "name": "python",
   "nbconvert_exporter": "python",
   "pygments_lexer": "ipython3",
   "version": "3.6.2"
  }
 },
 "nbformat": 4,
 "nbformat_minor": 2
}
